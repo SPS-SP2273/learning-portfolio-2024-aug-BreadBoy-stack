{
 "cells": [
  {
   "attachments": {},
   "cell_type": "markdown",
   "id": "123456",
   "metadata": {},
   "source": [
    "<div style=\"text-align:left;font-size:2em\"><span style=\"font-weight:bolder;font-size:1.25em\">SP2273 | Learning Portfolio</span><br><br><span style=\"font-weight:bold;color:darkred\">Fundamentals (Need) Exercises</span></div>"
   ]
  },
  {
   "cell_type": "markdown",
   "id": "d3831c5a-8822-48f7-a2cb-3fc985ea9c2b",
   "metadata": {},
   "source": [
    "1. Functions, Arrays, Different brackets have different purposes, Import modules that do not exist in the base version, usage of words as variables(relevant to the data stored), Dictionaries and lists, = is not the same as ==\n",
    "2. Comments, if statements, indentations, dot is for possession"
   ]
  },
  {
   "cell_type": "code",
   "execution_count": 2,
   "id": "605f5695-c730-44bd-8ad0-5f65c4e59dfe",
   "metadata": {},
   "outputs": [
    {
     "name": "stdout",
     "output_type": "stream",
     "text": [
      "3 4 5.0\n"
     ]
    }
   ],
   "source": [
    "import numpy as np\n",
    "\n",
    "x, y = 3, 4\n",
    "z = np.sqrt(x**2 + y**2)\n",
    "print(x, y, z)"
   ]
  },
  {
   "cell_type": "markdown",
   "id": "a1973e3e-bf6f-4d66-b515-373aa95dabb4",
   "metadata": {},
   "source": [
    "| #  | Term         | Description                                                    |\n",
    "|----|--------------|----------------------------------------------------------------|\n",
    "| 1  | Function     | Code that carries out a specific program based on the input    |\n",
    "| 2  | Argument     | An argument is a variable of any kind fed into a function      |\n",
    "| 3  | Comments     | Writing that isn't read by the interpreter as code             |\n",
    "| 4  | Indentations | Allows you to compartmentalize code and make it easier to read |\n",
    "| 5  | Packages     | Imported code that is not defined by python                |\n",
    "| 6  | `.`          | Possession marker, to attach functions to packages             |\n",
    "| 7  | `:`          | Used to put code under a function that is being defined        |\n",
    "| 8  | `[]`         | Form 1D lists with variables                                   |\n",
    "| 9  | `[[],[]]`    | Form 2D lists with variables                                   |\n",
    "| 10 | `{}`         | Form Dictionaries                                              |"
   ]
  },
  {
   "cell_type": "code",
   "execution_count": 7,
   "id": "8ce78802-0d62-487f-a18e-84d4d75495a8",
   "metadata": {},
   "outputs": [
    {
     "name": "stdout",
     "output_type": "stream",
     "text": [
      "2.5 1 1\n"
     ]
    }
   ],
   "source": [
    "x = 5/2 #regular division\n",
    "y = 5//2 #gives quotient without remainder\n",
    "z = 5%2 #gives the remainder\n",
    "\n",
    "print(x, y, z)"
   ]
  },
  {
   "cell_type": "code",
   "execution_count": null,
   "id": "7077597d-44b8-4ea4-9245-7e9689fed936",
   "metadata": {},
   "outputs": [],
   "source": []
  }
 ],
 "metadata": {
  "kernelspec": {
   "display_name": "Python 3 (ipykernel)",
   "language": "python",
   "name": "python3"
  },
  "language_info": {
   "codemirror_mode": {
    "name": "ipython",
    "version": 3
   },
   "file_extension": ".py",
   "mimetype": "text/x-python",
   "name": "python",
   "nbconvert_exporter": "python",
   "pygments_lexer": "ipython3",
   "version": "3.12.3"
  },
  "toc": {
   "base_numbering": 1,
   "nav_menu": {},
   "number_sections": true,
   "sideBar": true,
   "skip_h1_title": false,
   "title_cell": "Table of Contents",
   "title_sidebar": "Contents",
   "toc_cell": false,
   "toc_position": {},
   "toc_section_display": true,
   "toc_window_display": false
  },
  "vscode": {
   "interpreter": {
    "hash": "31f2aee4e71d21fbe5cf8b01ff0e069b9275f58929596ceb00d14d90e3e16cd6"
   }
  }
 },
 "nbformat": 4,
 "nbformat_minor": 5
}
