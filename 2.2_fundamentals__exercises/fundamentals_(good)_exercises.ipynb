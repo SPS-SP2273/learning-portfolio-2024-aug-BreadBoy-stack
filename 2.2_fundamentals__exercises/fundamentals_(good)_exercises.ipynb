{
 "cells": [
  {
   "attachments": {},
   "cell_type": "markdown",
   "id": "123456",
   "metadata": {},
   "source": [
    "<div style=\"text-align:left;font-size:2em\"><span style=\"font-weight:bolder;font-size:1.25em\">SP2273 | Learning Portfolio</span><br><br><span style=\"font-weight:bold;color:darkred\">Fundamentals (Good) Exercises</span></div>"
   ]
  },
  {
   "cell_type": "code",
   "execution_count": null,
   "id": "9fdb2074-6216-4f5e-bfd4-cb3c206bf0bb",
   "metadata": {},
   "outputs": [],
   "source": [
    "userInput = input(\"What is your name?\")\n",
    "print(f\"Hello {userInput}!\")"
   ]
  },
  {
   "cell_type": "code",
   "execution_count": null,
   "id": "36696ebf-39b7-41a0-a1f9-c7e20f277969",
   "metadata": {},
   "outputs": [],
   "source": [
    "userName = input(\"What is your name?\")\n",
    "userAge = input(\"What is your age?\")\n",
    "print(f\"My name is {userName} and I am {userAge} years old.\")"
   ]
  },
  {
   "cell_type": "code",
   "execution_count": null,
   "id": "aa7e9c8f-c5af-4f0f-9b57-a99aafb350ac",
   "metadata": {},
   "outputs": [],
   "source": [
    "pi = 3.141592653589793\n",
    "print(f\"The value of pi to 2 decimal places is: {pi:.2f}\")\n",
    "print(f\"The value of pi to 3 decimal places is: {pi:.3f}\")\n",
    "print(f\"The value of pi to 4 decimal places is: {pi:.4f}\")"
   ]
  },
  {
   "cell_type": "code",
   "execution_count": 10,
   "id": "3cc07d04-f6b7-4896-b08d-fd94c8bb8c61",
   "metadata": {},
   "outputs": [
    {
     "name": "stdout",
     "output_type": "stream",
     "text": [
      "Apple     $ 0.99\n",
      "Banana    $ 0.59\n",
      "Orange    $ 1.29\n"
     ]
    }
   ],
   "source": [
    "print(f\"{\"Apple\":<10}${\"0.99\":>5}\")\n",
    "print(f\"{\"Banana\":<10}${\"0.59\":>5}\")\n",
    "print(f\"{\"Orange\":<10}${\"1.29\":>5}\")"
   ]
  },
  {
   "cell_type": "code",
   "execution_count": 8,
   "id": "cfaa6861-191a-4c4d-92c4-c17ec49a5477",
   "metadata": {},
   "outputs": [
    {
     "name": "stdin",
     "output_type": "stream",
     "text": [
      "Enter the student's score:  esaif\n"
     ]
    },
    {
     "ename": "SyntaxError",
     "evalue": "'return' outside function (3129158918.py, line 4)",
     "output_type": "error",
     "traceback": [
      "\u001b[1;36m  Cell \u001b[1;32mIn[8], line 4\u001b[1;36m\u001b[0m\n\u001b[1;33m    return \"hahaha\"\u001b[0m\n\u001b[1;37m    ^\u001b[0m\n\u001b[1;31mSyntaxError\u001b[0m\u001b[1;31m:\u001b[0m 'return' outside function\n"
     ]
    }
   ],
   "source": [
    "score = input(\"Enter the student's score: \")\n",
    "\n",
    "if score > 100 or score < 0:\n",
    "    score = input(\"Please input a realistic score: \")\n",
    "elif 70 <= score <= 100:\n",
    "    grade = \"A\"\n",
    "elif 50 <= score <= 69:\n",
    "    grade = \"B\"\n",
    "elif 35 <= score <= 49:\n",
    "    grade = \"C\"\n",
    "elif 0 <= score <= 34:\n",
    "    grade = \"Fail\" #im not too sure how to get it to loop\n",
    "\n",
    "\n",
    "print(f\"The student's letter grade is: {grade}\")\n",
    "    "
   ]
  },
  {
   "cell_type": "code",
   "execution_count": 3,
   "id": "cce2733d-f836-44f9-9fb1-d2e361eac208",
   "metadata": {},
   "outputs": [
    {
     "name": "stdout",
     "output_type": "stream",
     "text": [
      "120\n",
      "Invalid input\n"
     ]
    },
    {
     "data": {
      "text/plain": [
       "720"
      ]
     },
     "execution_count": 3,
     "metadata": {},
     "output_type": "execute_result"
    }
   ],
   "source": [
    "def factorial(n):\n",
    "        if n < 0:\n",
    "            return \"Invalid input\"\n",
    "        elif n == 0:\n",
    "            return 1\n",
    "        else:\n",
    "            result = 1\n",
    "            for n in range(1, n+1):\n",
    "                result = result*n\n",
    "            return result\n",
    "\n",
    "print(factorial(5))\n",
    "print(factorial(-1))\n",
    "factorial(6)"
   ]
  },
  {
   "cell_type": "code",
   "execution_count": 1,
   "id": "d77a5455-30fc-43f2-ba3b-4dd273898dba",
   "metadata": {},
   "outputs": [
    {
     "ename": "NameError",
     "evalue": "name 'factorial' is not defined",
     "output_type": "error",
     "traceback": [
      "\u001b[1;31m---------------------------------------------------------------------------\u001b[0m",
      "\u001b[1;31mNameError\u001b[0m                                 Traceback (most recent call last)",
      "Cell \u001b[1;32mIn[1], line 1\u001b[0m\n\u001b[1;32m----> 1\u001b[0m \u001b[43mfactorial\u001b[49m(e)\n",
      "\u001b[1;31mNameError\u001b[0m: name 'factorial' is not defined"
     ]
    }
   ],
   "source": []
  },
  {
   "cell_type": "code",
   "execution_count": null,
   "id": "81397bd0-e545-44a3-88ea-3fc2186ec30a",
   "metadata": {},
   "outputs": [],
   "source": []
  }
 ],
 "metadata": {
  "kernelspec": {
   "display_name": "Python 3 (ipykernel)",
   "language": "python",
   "name": "python3"
  },
  "language_info": {
   "codemirror_mode": {
    "name": "ipython",
    "version": 3
   },
   "file_extension": ".py",
   "mimetype": "text/x-python",
   "name": "python",
   "nbconvert_exporter": "python",
   "pygments_lexer": "ipython3",
   "version": "3.12.3"
  },
  "toc": {
   "base_numbering": 1,
   "nav_menu": {},
   "number_sections": true,
   "sideBar": true,
   "skip_h1_title": false,
   "title_cell": "Table of Contents",
   "title_sidebar": "Contents",
   "toc_cell": false,
   "toc_position": {},
   "toc_section_display": true,
   "toc_window_display": false
  },
  "vscode": {
   "interpreter": {
    "hash": "31f2aee4e71d21fbe5cf8b01ff0e069b9275f58929596ceb00d14d90e3e16cd6"
   }
  }
 },
 "nbformat": 4,
 "nbformat_minor": 5
}
