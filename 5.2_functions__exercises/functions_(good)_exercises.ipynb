{
 "cells": [
  {
   "attachments": {},
   "cell_type": "markdown",
   "id": "123456",
   "metadata": {},
   "source": [
    "<div style=\"text-align:left;font-size:2em\"><span style=\"font-weight:bolder;font-size:1.25em\">SP2273 | Learning Portfolio</span><br><br><span style=\"font-weight:bold;color:darkred\">Functions (Good) Exercises</span></div>"
   ]
  },
  {
   "cell_type": "code",
   "execution_count": 3,
   "id": "86a7cd8e-8e3e-45ce-a057-29ee91d58473",
   "metadata": {},
   "outputs": [
    {
     "data": {
      "text/plain": [
       "32.0"
      ]
     },
     "execution_count": 3,
     "metadata": {},
     "output_type": "execute_result"
    }
   ],
   "source": [
    "def convert_celsius(temperature_celsius, target_scale=\"Fahrenheit\"):\n",
    "    if target_scale == \"Kelvin\":\n",
    "        return temperature_celsius + 273.15\n",
    "\n",
    "    elif target_scale == \"Fahrenheit\":\n",
    "        return (temperature_celsius*1.8) + 32\n",
    "\n",
    "convert_celsius(0,\"Fahrenheit\")"
   ]
  },
  {
   "cell_type": "code",
   "execution_count": 17,
   "id": "dfe6f7aa-d383-4b49-b7e3-9cecc088c061",
   "metadata": {},
   "outputs": [
    {
     "data": {
      "text/plain": [
       "'kelvin'"
      ]
     },
     "execution_count": 17,
     "metadata": {},
     "output_type": "execute_result"
    }
   ],
   "source": [
    "x = \"kelvin\"\n",
    "x == \"Kelvin\" or x == \"kelvin\""
   ]
  },
  {
   "cell_type": "code",
   "execution_count": 6,
   "id": "98a0ac06-aae6-430c-913d-9eacaade4d7e",
   "metadata": {},
   "outputs": [
    {
     "name": "stdout",
     "output_type": "stream",
     "text": [
      "32\n",
      "273.15\n",
      "0.0\n"
     ]
    }
   ],
   "source": [
    "def convert_fahrenheit(temperature_fahrenheit, target_scale=\"Celsius\"):\n",
    "    \n",
    "    def celsius(temp_fahrenheit):\n",
    "        return (temp_fahrenheit-32)/1.8\n",
    "    def kelvin(temp_fahrenheit):\n",
    "        return ((temp_fahrenheit-32)/1.8) + 273.15\n",
    "\n",
    "    if target_scale==\"Celsius\":\n",
    "        return celsius(temperature_fahrenheit)\n",
    "    elif target_scale==\"Kelvin\":\n",
    "        return kelvin(temperature_fahrenheit)\n",
    "    elif target_scale==\"Fahrenheit\":\n",
    "        return temperature_fahrenheit\n",
    "    else:\n",
    "        return \"Invalid input!\"\n",
    "\n",
    "print(convert_fahrenheit(32, \"Fahrenheit\"))\n",
    "print(convert_fahrenheit(32, \"Kelvin\"))\n",
    "print(convert_fahrenheit(32, \"Celsius\"))\n",
    "\n",
    "#Apparently this is another method to do this question"
   ]
  },
  {
   "cell_type": "code",
   "execution_count": 7,
   "id": "bf39b722-5692-4666-b3a2-edcd43774f4c",
   "metadata": {},
   "outputs": [
    {
     "name": "stdout",
     "output_type": "stream",
     "text": [
      "273.15\n",
      "273.15\n",
      "32.0\n"
     ]
    }
   ],
   "source": [
    "def convert_temperature(temperature, source_scale, target_scale):\n",
    "\n",
    "    if source_scale==\"Celsius\":\n",
    "        return convert_celsius(temperature, target_scale)\n",
    "\n",
    "    if source_scale==\"Fahrenheit\":\n",
    "        return convert_fahrenheit(temperature, target_scale)\n",
    "\n",
    "    if source_scale==\"Kelvin\":\n",
    "        if target_scale==\"Celsius\":\n",
    "            return temperature-273.15\n",
    "        if target_scale==\"Fahrenheit\":\n",
    "            return (temperature-273.15)*1.8 + 32\n",
    "\n",
    "print(convert_temperature(0, \"Celsius\", \"Kelvin\"))\n",
    "print(convert_temperature(32, \"Fahrenheit\", \"Kelvin\"))\n",
    "print(convert_temperature(273.15, \"Kelvin\", \"Fahrenheit\"))"
   ]
  },
  {
   "cell_type": "code",
   "execution_count": null,
   "id": "d054ab9e-fcc4-4671-8c8c-9c8d76eeebf1",
   "metadata": {},
   "outputs": [],
   "source": [
    "\n"
   ]
  }
 ],
 "metadata": {
  "kernelspec": {
   "display_name": "Python 3 (ipykernel)",
   "language": "python",
   "name": "python3"
  },
  "language_info": {
   "codemirror_mode": {
    "name": "ipython",
    "version": 3
   },
   "file_extension": ".py",
   "mimetype": "text/x-python",
   "name": "python",
   "nbconvert_exporter": "python",
   "pygments_lexer": "ipython3",
   "version": "3.12.3"
  },
  "toc": {
   "base_numbering": 1,
   "nav_menu": {},
   "number_sections": true,
   "sideBar": true,
   "skip_h1_title": false,
   "title_cell": "Table of Contents",
   "title_sidebar": "Contents",
   "toc_cell": false,
   "toc_position": {},
   "toc_section_display": true,
   "toc_window_display": false
  },
  "vscode": {
   "interpreter": {
    "hash": "31f2aee4e71d21fbe5cf8b01ff0e069b9275f58929596ceb00d14d90e3e16cd6"
   }
  }
 },
 "nbformat": 4,
 "nbformat_minor": 5
}
