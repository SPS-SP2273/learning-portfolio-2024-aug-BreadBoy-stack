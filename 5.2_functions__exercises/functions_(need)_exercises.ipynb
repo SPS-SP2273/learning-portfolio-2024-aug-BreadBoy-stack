{
 "cells": [
  {
   "attachments": {},
   "cell_type": "markdown",
   "id": "123456",
   "metadata": {},
   "source": [
    "<div style=\"text-align:left;font-size:2em\"><span style=\"font-weight:bolder;font-size:1.25em\">SP2273 | Learning Portfolio</span><br><br><span style=\"font-weight:bold;color:darkred\">Functions (Need) Exercises</span></div>"
   ]
  },
  {
   "cell_type": "markdown",
   "id": "b44202d6-162f-4f5e-b14b-385c0d8384cd",
   "metadata": {},
   "source": [
    "Since the **return** part of the code is not indented and is at the same level compared to the if statement, the function simply checks for the if statement and moves on when the condition is not met to run the remainder of the code, which is to print the 'Hello {name}\""
   ]
  },
  {
   "cell_type": "code",
   "execution_count": 7,
   "id": "60e7b52a-540e-420b-ae2a-60ee6cf897c9",
   "metadata": {},
   "outputs": [
    {
     "name": "stdin",
     "output_type": "stream",
     "text": [
      "please input your weight in kilograms 72.5\n",
      "please input your height in meters 1.75\n"
     ]
    },
    {
     "data": {
      "text/plain": [
       "'BMI: 23.67, Normal weight!'"
      ]
     },
     "execution_count": 7,
     "metadata": {},
     "output_type": "execute_result"
    }
   ],
   "source": [
    "cat = \"\"\n",
    "\n",
    "def calculate_bmi(weight, height):\n",
    "    BMI = weight / (height**2)\n",
    "    if BMI < 18.5:\n",
    "        cat = \"Underweight\"\n",
    "    elif 18.5 <= BMI < 25:\n",
    "        cat = \"Normal weight\"\n",
    "    elif 25 <= BMI < 30:\n",
    "        cat = \"Overweight\"\n",
    "    else:\n",
    "        cat = \"Obese\"\n",
    "    return f\"BMI: {BMI:.2f}, {cat}!\"\n",
    "\n",
    "user_weight = float(input(\"please input your weight in kilograms\"))\n",
    "user_height = float(input(\"please input your height in meters\"))\n",
    "\n",
    "calculate_bmi(user_weight, user_height)"
   ]
  },
  {
   "cell_type": "code",
   "execution_count": 71,
   "id": "604d7fbe-2324-48f0-8ec9-0019d9ede54d",
   "metadata": {},
   "outputs": [
    {
     "data": {
      "text/plain": [
       "720"
      ]
     },
     "execution_count": 71,
     "metadata": {},
     "output_type": "execute_result"
    }
   ],
   "source": [
    "def factorial(n):\n",
    "    factorial = 1\n",
    "    if n < 0:\n",
    "        return \"NO NEGATIVE NUMBERS\"\n",
    "    elif n%1 != 0:\n",
    "        return \"INTEGERS ONLY\"\n",
    "    else:\n",
    "        for i in range(1, n+1):\n",
    "            factorial *= i\n",
    "        return factorial\n",
    "\n",
    "factorial(6)"
   ]
  },
  {
   "cell_type": "code",
   "execution_count": null,
   "id": "7009354f-11b9-47b0-8151-bf0a380657ef",
   "metadata": {},
   "outputs": [],
   "source": []
  }
 ],
 "metadata": {
  "kernelspec": {
   "display_name": "Python 3 (ipykernel)",
   "language": "python",
   "name": "python3"
  },
  "language_info": {
   "codemirror_mode": {
    "name": "ipython",
    "version": 3
   },
   "file_extension": ".py",
   "mimetype": "text/x-python",
   "name": "python",
   "nbconvert_exporter": "python",
   "pygments_lexer": "ipython3",
   "version": "3.12.3"
  },
  "toc": {
   "base_numbering": 1,
   "nav_menu": {},
   "number_sections": true,
   "sideBar": true,
   "skip_h1_title": false,
   "title_cell": "Table of Contents",
   "title_sidebar": "Contents",
   "toc_cell": false,
   "toc_position": {},
   "toc_section_display": true,
   "toc_window_display": false
  },
  "vscode": {
   "interpreter": {
    "hash": "31f2aee4e71d21fbe5cf8b01ff0e069b9275f58929596ceb00d14d90e3e16cd6"
   }
  }
 },
 "nbformat": 4,
 "nbformat_minor": 5
}
