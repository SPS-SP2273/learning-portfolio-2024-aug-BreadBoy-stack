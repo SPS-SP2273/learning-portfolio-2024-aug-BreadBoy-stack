{
 "cells": [
  {
   "attachments": {},
   "cell_type": "markdown",
   "id": "123456",
   "metadata": {},
   "source": [
    "<div style=\"text-align:left;font-size:2em\"><span style=\"font-weight:bolder;font-size:1.25em\">SP2273 | Learning Portfolio</span><br><br><span style=\"font-weight:bold;color:darkred\">Loops (Good) Exercises</span></div>"
   ]
  },
  {
   "cell_type": "code",
   "execution_count": 18,
   "id": "d2db5747-9913-4836-8f82-e9d499428f1c",
   "metadata": {},
   "outputs": [
    {
     "name": "stdout",
     "output_type": "stream",
     "text": [
      "2.07 μs ± 76.5 ns per loop (mean ± std. dev. of 7 runs, 100,000 loops each)\n"
     ]
    }
   ],
   "source": [
    "%%timeit\n",
    "list =[]\n",
    "for numbers in range(10):\n",
    "    if numbers%2 == 0:\n",
    "        continue\n",
    "    squareOdds = numbers**2\n",
    "    list.append(squareOdds)\n",
    "\n",
    "list"
   ]
  },
  {
   "cell_type": "code",
   "execution_count": 18,
   "id": "20b64abe-e40d-457d-b3b3-2614949c783a",
   "metadata": {},
   "outputs": [
    {
     "name": "stdout",
     "output_type": "stream",
     "text": [
      "2.36 μs ± 224 ns per loop (mean ± std. dev. of 7 runs, 100,000 loops each)\n"
     ]
    }
   ],
   "source": [
    "%%timeit\n",
    "[numbers**2 for numbers in range(10) if numbers%2 == 1]\n"
   ]
  },
  {
   "cell_type": "code",
   "execution_count": 24,
   "id": "9d6449b1-00f5-4eb8-91e8-d9a76e2af320",
   "metadata": {},
   "outputs": [
    {
     "name": "stdout",
     "output_type": "stream",
     "text": [
      "the sample will take 14 years to decay to half the amount\n"
     ]
    }
   ],
   "source": [
    "amt = 100\n",
    "i = 0\n",
    "while True:\n",
    "    amt = amt*0.95\n",
    "    i += 1\n",
    "    if amt <50:\n",
    "        break\n",
    "print(f\"the sample will take {i} years to decay to half the amount\")"
   ]
  },
  {
   "cell_type": "code",
   "execution_count": 13,
   "id": "42f9f4da-6987-4af4-87fe-79f0fc2c6160",
   "metadata": {},
   "outputs": [
    {
     "name": "stdout",
     "output_type": "stream",
     "text": [
      "in 2016, CO2 increased by 3.41\n"
     ]
    }
   ],
   "source": [
    "co2_list = [\n",
    "    (2000, 369.55), (2001, 371.14), (2002, 373.28), \n",
    "    (2003, 375.80), (2004, 377.52), (2005, 379.80), \n",
    "    (2006, 381.90), (2007, 383.79), (2008, 385.60), \n",
    "    (2009, 387.43), (2010, 389.90), (2011, 391.65), \n",
    "    (2012, 393.85), (2013, 396.52), (2014, 398.65),\n",
    "    (2015, 400.83), (2016, 404.24), (2017, 406.55), \n",
    "    (2018, 408.52), (2019, 411.44), (2020, 414.24)\n",
    "]\n",
    "#Identify those years that showed an increase of CO2 of 3 ppm or more compared to the previous year. \n",
    "#Please print out these years along with the corresponding change in concentration\n",
    "\n",
    "for i in range(len(co2_list)):\n",
    "    year = co2_list[i][0]\n",
    "    carbonLevel = co2_list[i][1]\n",
    "    carbonChange = co2_list[i][1] - co2_list[i-1][1]\n",
    "    if i==0 or carbonChange < 3:\n",
    "        continue\n",
    "    print(f\"in {year}, CO2 increased by {carbonChange:.3}\")\n",
    "        \n"
   ]
  },
  {
   "cell_type": "code",
   "execution_count": 2,
   "id": "a84dc558-44b1-4ec3-bae6-e3dcd584d6ff",
   "metadata": {},
   "outputs": [
    {
     "name": "stdout",
     "output_type": "stream",
     "text": [
      "1075\n"
     ]
    }
   ],
   "source": [
    "#Someone wishes to reach an end point X metres away\n",
    "#They travel half the distance at time t\n",
    "#They travel half the remaining distance at time t+1\n",
    "#They travel half the remaining distance at time t+2\n",
    "#...\n",
    "#Will they ever reach the end point?\n",
    "\n",
    "distance = 1\n",
    "i = 0\n",
    "\n",
    "while True:\n",
    "    distance = distance*0.5\n",
    "    i += 1\n",
    "    if distance == 0: break\n",
    "\n",
    "print(i)"
   ]
  },
  {
   "cell_type": "code",
   "execution_count": null,
   "id": "df1eff57-616f-4782-aa4c-990f018de9af",
   "metadata": {},
   "outputs": [],
   "source": []
  }
 ],
 "metadata": {
  "kernelspec": {
   "display_name": "Python 3 (ipykernel)",
   "language": "python",
   "name": "python3"
  },
  "language_info": {
   "codemirror_mode": {
    "name": "ipython",
    "version": 3
   },
   "file_extension": ".py",
   "mimetype": "text/x-python",
   "name": "python",
   "nbconvert_exporter": "python",
   "pygments_lexer": "ipython3",
   "version": "3.12.3"
  },
  "toc": {
   "base_numbering": 1,
   "nav_menu": {},
   "number_sections": true,
   "sideBar": true,
   "skip_h1_title": false,
   "title_cell": "Table of Contents",
   "title_sidebar": "Contents",
   "toc_cell": false,
   "toc_position": {},
   "toc_section_display": true,
   "toc_window_display": false
  },
  "vscode": {
   "interpreter": {
    "hash": "31f2aee4e71d21fbe5cf8b01ff0e069b9275f58929596ceb00d14d90e3e16cd6"
   }
  }
 },
 "nbformat": 4,
 "nbformat_minor": 5
}
