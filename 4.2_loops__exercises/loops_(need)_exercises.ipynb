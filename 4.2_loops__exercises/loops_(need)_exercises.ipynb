{
 "cells": [
  {
   "attachments": {},
   "cell_type": "markdown",
   "id": "123456",
   "metadata": {},
   "source": [
    "<div style=\"text-align:left;font-size:2em\"><span style=\"font-weight:bolder;font-size:1.25em\">SP2273 | Learning Portfolio</span><br><br><span style=\"font-weight:bold;color:darkred\">Loops (Need) Exercises</span></div>"
   ]
  },
  {
   "cell_type": "code",
   "execution_count": 13,
   "id": "bbcc1e61-49a2-42fc-b326-4bc05c82ae96",
   "metadata": {},
   "outputs": [
    {
     "name": "stdout",
     "output_type": "stream",
     "text": [
      "0 in celsius is equal to 32.0 in fahrenheit\n",
      "5 in celsius is equal to 41.0 in fahrenheit\n",
      "10 in celsius is equal to 50.0 in fahrenheit\n",
      "15 in celsius is equal to 59.0 in fahrenheit\n",
      "20 in celsius is equal to 68.0 in fahrenheit\n",
      "25 in celsius is equal to 77.0 in fahrenheit\n",
      "30 in celsius is equal to 86.0 in fahrenheit\n",
      "35 in celsius is equal to 95.0 in fahrenheit\n",
      "40 in celsius is equal to 104.0 in fahrenheit\n",
      "45 in celsius is equal to 113.0 in fahrenheit\n",
      "50 in celsius is equal to 122.0 in fahrenheit\n"
     ]
    }
   ],
   "source": [
    "temperatures_celsius = [\n",
    "    0, 5, 10, 15, 20, 25,\n",
    "    30, 35, 40, 45, 50\n",
    "]\n",
    "\n",
    "for ingerland in temperatures_celsius:\n",
    "    freedomUnits = ingerland*9 /5 + 32\n",
    "    print(f\"{ingerland} in celsius is equal to {freedomUnits} in fahrenheit\")"
   ]
  },
  {
   "cell_type": "code",
   "execution_count": 14,
   "id": "92fc2361-199f-4735-b0dc-92aebfa6b3a8",
   "metadata": {},
   "outputs": [
    {
     "name": "stdout",
     "output_type": "stream",
     "text": [
      "A1\tA2\tA3\t\n",
      "\n",
      "B1\tB2\tB3\t\n",
      "\n",
      "C1\tC2\tC3\t\n",
      "\n"
     ]
    }
   ],
   "source": [
    "for letter in ['A', 'B', 'C']:\n",
    "    for number in [1, 2, 3]:\n",
    "        print(f'{letter}{number}', end='\\t')\n",
    "    print('\\n')    "
   ]
  },
  {
   "cell_type": "code",
   "execution_count": 38,
   "id": "3e73a85b-eb0a-41c0-bec7-a4411fd73615",
   "metadata": {},
   "outputs": [
    {
     "name": "stdout",
     "output_type": "stream",
     "text": [
      "1 :\t1\t2\t3\t4\t5\t\n",
      "\n",
      "2 :\t2\t4\t6\t8\t10\t\n",
      "\n",
      "3 :\t3\t6\t9\t12\t15\t\n",
      "\n",
      "4 :\t4\t8\t12\t16\t20\t\n",
      "\n",
      "5 :\t5\t10\t15\t20\t25\t\n",
      "\n"
     ]
    }
   ],
   "source": [
    "funNumbers = [1, 2, 3, 4, 5]\n",
    "\n",
    "for numbers in range(5):\n",
    "    print(f\"{numbers+1} :\", end=\"\\t\")\n",
    "    for numbers2 in range(5):\n",
    "        multiple = (numbers+1)*(numbers2+1)\n",
    "        print(f\"{multiple}\", end = \"\\t\")\n",
    "    print(\"\\n\")"
   ]
  },
  {
   "cell_type": "code",
   "execution_count": 33,
   "id": "931214e6-80f7-4c17-b654-2872485d5cd5",
   "metadata": {},
   "outputs": [
    {
     "data": {
      "text/plain": [
       "array([0.4593284 , 0.05597336, 0.40880546, 0.60622802, 0.42026747,\n",
       "       0.27281625, 0.90983716, 0.9410583 , 0.19295001, 0.44064081])"
      ]
     },
     "execution_count": 33,
     "metadata": {},
     "output_type": "execute_result"
    }
   ],
   "source": [
    "import numpy as np\n",
    "np.random.rand(10)"
   ]
  },
  {
   "cell_type": "code",
   "execution_count": 40,
   "id": "641385e4-059d-40e7-ab3b-c8fa355be60f",
   "metadata": {},
   "outputs": [
    {
     "name": "stdout",
     "output_type": "stream",
     "text": [
      "experiment 0: No. of heads = 4\n",
      "experiment 1: No. of heads = 6\n",
      "experiment 2: No. of heads = 3\n",
      "experiment 3: No. of heads = 6\n",
      "experiment 4: No. of heads = 6\n",
      "experiment 5: No. of heads = 5\n",
      "experiment 6: No. of heads = 3\n",
      "experiment 7: No. of heads = 7\n",
      "experiment 8: No. of heads = 4\n",
      "experiment 9: No. of heads = 5\n"
     ]
    }
   ],
   "source": [
    "for i in range(10):\n",
    "    rng = np.random.rand(10)\n",
    "    headSum = sum(rng >= 0.5)\n",
    "    print(f\"experiment {i}: No. of heads = {headSum}\")\n",
    "    i += 1"
   ]
  },
  {
   "cell_type": "code",
   "execution_count": null,
   "id": "a6a0e428-11d1-4371-b45e-199f62c2832f",
   "metadata": {},
   "outputs": [],
   "source": []
  }
 ],
 "metadata": {
  "kernelspec": {
   "display_name": "Python 3 (ipykernel)",
   "language": "python",
   "name": "python3"
  },
  "language_info": {
   "codemirror_mode": {
    "name": "ipython",
    "version": 3
   },
   "file_extension": ".py",
   "mimetype": "text/x-python",
   "name": "python",
   "nbconvert_exporter": "python",
   "pygments_lexer": "ipython3",
   "version": "3.12.3"
  },
  "toc": {
   "base_numbering": 1,
   "nav_menu": {},
   "number_sections": true,
   "sideBar": true,
   "skip_h1_title": false,
   "title_cell": "Table of Contents",
   "title_sidebar": "Contents",
   "toc_cell": false,
   "toc_position": {},
   "toc_section_display": true,
   "toc_window_display": false
  },
  "vscode": {
   "interpreter": {
    "hash": "31f2aee4e71d21fbe5cf8b01ff0e069b9275f58929596ceb00d14d90e3e16cd6"
   }
  }
 },
 "nbformat": 4,
 "nbformat_minor": 5
}
