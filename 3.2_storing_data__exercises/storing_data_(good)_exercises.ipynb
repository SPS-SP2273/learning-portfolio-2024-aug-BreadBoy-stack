{
 "cells": [
  {
   "attachments": {},
   "cell_type": "markdown",
   "id": "123456",
   "metadata": {},
   "source": [
    "<div style=\"text-align:left;font-size:2em\"><span style=\"font-weight:bolder;font-size:1.25em\">SP2273 | Learning Portfolio</span><br><br><span style=\"font-weight:bold;color:darkred\">Storing Data (Good) Exercises</span></div>"
   ]
  },
  {
   "cell_type": "markdown",
   "id": "0352c925-1599-4a67-9164-966ecf72420f",
   "metadata": {},
   "source": [
    "| Term       | Brief Description                                                         |\n",
    "|------------|:-------------------------------------------------------------------------:|\n",
    "| Subsetting | Forming of smaller sets using certain elements from a larger defined set  |\n",
    "| Indexing   | Calling of single elements from a complete set                            |\n",
    "| Slicing    | _Refers to getting a range of elements_                                   |\n",
    "| Masking    | Identifying elements that satisfy specific criteria to form a smaller set |"
   ]
  },
  {
   "cell_type": "code",
   "execution_count": 2,
   "id": "24059c9b-48a0-4bc6-b8fc-aabca67b1ca4",
   "metadata": {},
   "outputs": [
    {
     "name": "stdout",
     "output_type": "stream",
     "text": [
      "['1' '3' '2' '4' '5' '7' '6' '8' '10' '9']\n",
      "[ True  True False False  True  True False False False  True]\n",
      "['A' 'C' 'E' 'G' 'I']\n"
     ]
    }
   ],
   "source": [
    "import numpy as np\n",
    "np_array_2d = np.array([[1, \"A\"], [3, \"C\"], [2, \"B\"], [4, \"D\"],\n",
    "                        [5, \"E\"], [7, \"G\"], [6, \"F\"], [8, \"H\"],\n",
    "                        [10, \"J\"], [9, \"I\"]])\n",
    "#Use masking to subset the letters that correspond to the odd numbers.\n",
    "npArrayNumbers = np_array_2d[0:10, 0]\n",
    "print(npArrayNumbers)\n",
    "npArrayNumbers = npArrayNumbers.astype(int)\n",
    "oddMask = npArrayNumbers%2 == 1\n",
    "print(oddMask)\n",
    "npArrayLetters = np_array_2d[oddMask, 1]\n",
    "print(npArrayLetters)"
   ]
  },
  {
   "cell_type": "code",
   "execution_count": 37,
   "id": "b26a8f03-faf9-4078-9c1f-4e8d79ab82f7",
   "metadata": {},
   "outputs": [
    {
     "name": "stdout",
     "output_type": "stream",
     "text": [
      "[[ True False  True False False]\n",
      " [ True False  True False False]\n",
      " [ True False False  True False]\n",
      " [False  True  True False False]\n",
      " [ True False  True False  True]]\n",
      "[[ 1  0  1 -1 -1]\n",
      " [ 1 -1  1 -1 -1]\n",
      " [ 1 -1 -1  1 -1]\n",
      " [-1  1  1 -1 -1]\n",
      " [ 1 -1  1 -1  1]]\n"
     ]
    }
   ],
   "source": [
    "coolArray = np.array([[66, 50, 57, -1, -1],\n",
    "                      [92, -1, 88, -1, -1],\n",
    "                      [75, -1, -1, 76, -1],\n",
    "                      [-1, 51, 87, -1, -1],\n",
    "                      [71, -1, 67, -1, 69]])\n",
    "\n",
    "greaterThanFifty = coolArray > 50\n",
    "print(greaterThanFifty)\n",
    "lessThanFifty = coolArray < 50\n",
    "exactlyFifty = coolArray == 50\n",
    "\n",
    "coolArray[greaterThanFifty] = 1\n",
    "coolArray[lessThanFifty] = -1\n",
    "coolArray[exactlyFifty] = 0\n",
    "print(coolArray)"
   ]
  },
  {
   "cell_type": "code",
   "execution_count": 9,
   "id": "9531df07-c18a-466b-a4d1-773de39f0b49",
   "metadata": {},
   "outputs": [
    {
     "name": "stdout",
     "output_type": "stream",
     "text": [
      "[[66 50 57 -1 -1]\n",
      " [92 -1 88 -1 -1]\n",
      " [75 -1 -1 76 -1]\n",
      " [-1 51 87 -1 -1]\n",
      " [71 -1 67 -1 69]]\n",
      "[[ 1  0  1 -1 -1]\n",
      " [ 1 -1  1 -1 -1]\n",
      " [ 1 -1 -1  1 -1]\n",
      " [-1  1  1 -1 -1]\n",
      " [ 1 -1  1 -1  1]]\n"
     ]
    }
   ],
   "source": [
    "coolArray = np.array([[66, 50, 57, -1, -1],\n",
    "                      [92, -1, 88, -1, -1],\n",
    "                      [75, -1, -1, 76, -1],\n",
    "                      [-1, 51, 87, -1, -1],\n",
    "                      [71, -1, 67, -1, 69]])\n",
    "\n",
    "coolArray2 = coolArray.copy()\n",
    "\n",
    "coolArray2[coolArray > 50] = 1\n",
    "coolArray2[coolArray < 50] = -1\n",
    "coolArray2[coolArray == 50] = 0\n",
    "print(coolArray)\n",
    "print(coolArray2)"
   ]
  },
  {
   "cell_type": "code",
   "execution_count": 1,
   "id": "8a443026-d781-4402-9c20-4da0dbd1ba8b",
   "metadata": {},
   "outputs": [
    {
     "name": "stdout",
     "output_type": "stream",
     "text": [
      "['s', 'u', 'n']\n",
      "['h', 'a', 'n', 'n', 'a', 'h']\n"
     ]
    }
   ],
   "source": [
    "hannah = ['h','a','n','n','a','h']\n",
    "nus = ['n', 'u', 's']\n",
    "print(nus[::-1])\n",
    "print(hannah[::-1])"
   ]
  },
  {
   "cell_type": "code",
   "execution_count": 27,
   "id": "f0eda7ea-6ff1-47a7-b511-c3d8bbedd214",
   "metadata": {},
   "outputs": [
    {
     "name": "stdout",
     "output_type": "stream",
     "text": [
      "['f', 'e', 'd', 'c', 'b']\n",
      "['f', 'e', 'd', 'c']\n",
      "['f', 'e', 'd']\n",
      "['f', 'e']\n",
      "['f']\n",
      "[]\n",
      "['f', 'e', 'd', 'c', 'b', 'a']\n"
     ]
    }
   ],
   "source": [
    "hannah2 = ['a','b','c','d','e','f']\n",
    "for i in range(len(hannah2)):\n",
    "    print(hannah2[5:i:-1])\n",
    "\n",
    "print(hannah2[::-1])"
   ]
  },
  {
   "cell_type": "markdown",
   "id": "12626243-7cac-4b48-aab5-a2ba7f655da3",
   "metadata": {},
   "source": [
    "# "
   ]
  }
 ],
 "metadata": {
  "kernelspec": {
   "display_name": "Python 3 (ipykernel)",
   "language": "python",
   "name": "python3"
  },
  "language_info": {
   "codemirror_mode": {
    "name": "ipython",
    "version": 3
   },
   "file_extension": ".py",
   "mimetype": "text/x-python",
   "name": "python",
   "nbconvert_exporter": "python",
   "pygments_lexer": "ipython3",
   "version": "3.12.3"
  },
  "toc": {
   "base_numbering": 1,
   "nav_menu": {},
   "number_sections": true,
   "sideBar": true,
   "skip_h1_title": false,
   "title_cell": "Table of Contents",
   "title_sidebar": "Contents",
   "toc_cell": false,
   "toc_position": {},
   "toc_section_display": true,
   "toc_window_display": false
  },
  "vscode": {
   "interpreter": {
    "hash": "31f2aee4e71d21fbe5cf8b01ff0e069b9275f58929596ceb00d14d90e3e16cd6"
   }
  }
 },
 "nbformat": 4,
 "nbformat_minor": 5
}
