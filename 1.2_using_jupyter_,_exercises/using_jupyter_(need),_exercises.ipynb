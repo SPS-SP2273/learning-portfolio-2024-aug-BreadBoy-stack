{
 "cells": [
  {
   "attachments": {},
   "cell_type": "markdown",
   "id": "123456",
   "metadata": {},
   "source": [
    "<div style=\"text-align:left;font-size:2em\"><span style=\"font-weight:bolder;font-size:1.25em\">SP2273 | Learning Portfolio</span><br><br><span style=\"font-weight:bold;color:darkred\">Using Jupyter (Need), Exercises</span></div>"
   ]
  },
  {
   "attachments": {},
   "cell_type": "markdown",
   "id": "8a733a8a",
   "metadata": {},
   "source": [
    "## 1 Quadratic Equations"
   ]
  },
  {
   "attachments": {},
   "cell_type": "markdown",
   "id": "77c6a553",
   "metadata": {},
   "source": [
    "### Introduction"
   ]
  },
  {
   "cell_type": "markdown",
   "id": "2e5488c7-4b13-4a1c-a886-214c1c3e6115",
   "metadata": {},
   "source": [
    "# 1 Quadratic Equations\n",
    "## Introduction\n",
    "\n",
    "![](https://upload.wikimedia.org/wikipedia/commons/thumb/f/f8/Polynomialdeg2.svg/768px-Polynomialdeg2.svg.png)\n",
    "\n",
    "*(Image from the [Wikipedia page on Quadratic Equations](https://en.wikipedia.org/wiki/Quadratic_equation))*\n",
    "\n",
    "The general form of a quadratic equation is:\n",
    "\n",
    "$$\n",
    "ax^2 + bx + c = 0\n",
    "$$\n",
    "\n",
    "## Solutions\n",
    "Provided $a \\ne 0$, we can use an elementary algebraic method called [completing the square](https://en.wikipedia.org/wiki/Completing_the_square) to show that a quadratic equation has the following solution:\n",
    "\n",
    "$$\n",
    "x = \\dfrac{-b \\pm \\sqrt{b^2-4ac}}{2a}\n",
    "$$\n",
    "\n",
    "## Discriminant\n",
    "The quantity $\\Delta = b^2-4ac$ is called the **discriminant** of the equation and decides the nature of its solutions. The table below shows the various possibilities.\n",
    "\n",
    "| Discriminant             | Roots                                |\n",
    "|--------------------------|--------------------------------------|\n",
    "| $\\Delta = b^2-4ac = 0$   | A single solution of $-b/(2a)$       |\n",
    "| $\\Delta = b^2-4ac \\gt 0$ | Two distinct solutions               |\n",
    "| $\\Delta = b^2-4ac \\lt 0$ | No real solutions; both are complex. |"
   ]
  },
  {
   "attachments": {},
   "cell_type": "markdown",
   "id": "0a8bb091",
   "metadata": {},
   "source": [
    "### Solutions"
   ]
  },
  {
   "cell_type": "markdown",
   "id": "0022ce3b-e960-4c82-ae32-b69d6740561f",
   "metadata": {},
   "source": [
    "1. A git repository is an internet based database where information can be stored and sent for access by all, if allowed\n",
    "2. Git keeps track of changes in the files in our repository\n",
    "3. A commit is when you save the changes made to your code\n",
    "4. A push is when data is sent from GitHub desktop to the GitHub repository to sync the information\n",
    "5. A pull when data is downloaded from the repository to the desktop to update existing files\n",
    "6. Github desktop is local whereas Github is online\n"
   ]
  },
  {
   "attachments": {},
   "cell_type": "markdown",
   "id": "57466adb",
   "metadata": {},
   "source": [
    "### Discriminant"
   ]
  },
  {
   "cell_type": "markdown",
   "id": "1c3781f7-66e3-412d-ad0a-75ce25e00e84",
   "metadata": {},
   "source": [
    "$$\n",
    "\\mu = \\dfrac{1}{n}\\sum_{i=1}^{n} x_i\n",
    "$$\n",
    "$$\n",
    "\\sigma = \\sqrt{\\dfrac{1}{n}\\sum_{i=1}^{n} (x_i-\\mu)^2}\n",
    "$$\n",
    "$$\n",
    "r = \\dfrac{\\sum_{i=1}^{n} (x_i-\\mu_X)(y_i-\\mu_Y)}{\\sqrt{\\sum_{i=1}^{n} (x_i-\\mu_X)^2 \\sum_{i=1}^{n}(y_i-\\mu_Y)^2}}\n",
    "$$"
   ]
  },
  {
   "cell_type": "code",
   "execution_count": null,
   "id": "a33d3946-80ac-41ed-930d-1a31cc676457",
   "metadata": {},
   "outputs": [],
   "source": []
  },
  {
   "cell_type": "code",
   "execution_count": null,
   "id": "fd901eb9-09e9-4da1-ab34-b2e9d2c10a5c",
   "metadata": {},
   "outputs": [],
   "source": []
  }
 ],
 "metadata": {
  "kernelspec": {
   "display_name": "Python 3 (ipykernel)",
   "language": "python",
   "name": "python3"
  },
  "language_info": {
   "codemirror_mode": {
    "name": "ipython",
    "version": 3
   },
   "file_extension": ".py",
   "mimetype": "text/x-python",
   "name": "python",
   "nbconvert_exporter": "python",
   "pygments_lexer": "ipython3",
   "version": "3.12.3"
  },
  "toc": {
   "base_numbering": 1,
   "nav_menu": {},
   "number_sections": true,
   "sideBar": true,
   "skip_h1_title": false,
   "title_cell": "Table of Contents",
   "title_sidebar": "Contents",
   "toc_cell": false,
   "toc_position": {},
   "toc_section_display": true,
   "toc_window_display": false
  },
  "vscode": {
   "interpreter": {
    "hash": "31f2aee4e71d21fbe5cf8b01ff0e069b9275f58929596ceb00d14d90e3e16cd6"
   }
  }
 },
 "nbformat": 4,
 "nbformat_minor": 5
}
