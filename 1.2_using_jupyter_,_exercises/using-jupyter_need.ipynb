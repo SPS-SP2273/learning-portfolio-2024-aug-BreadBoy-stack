{
 "cells": [
  {
   "cell_type": "markdown",
   "id": "f8fdee12-fb0c-4bd4-a5db-4d7a58a4c49d",
   "metadata": {},
   "source": [
    "| A    |  B   |    C |\n",
    "| :--- | :--: | ---: |\n",
    "| a1   |  b1  |   c1 |\n",
    "| a2   |  b2  |   c2 |\n",
    "| a3   |  b3  |   c3 |"
   ]
  },
  {
   "cell_type": "code",
   "execution_count": 1,
   "id": "1317a061-3e23-40ab-9227-44d6a994e280",
   "metadata": {},
   "outputs": [
    {
     "name": "stdout",
     "output_type": "stream",
     "text": [
      "hello world\n"
     ]
    }
   ],
   "source": [
    "print('hello world')"
   ]
  },
  {
   "cell_type": "code",
   "execution_count": 2,
   "id": "326050ae-6919-4886-88da-37bb8272a45f",
   "metadata": {},
   "outputs": [
    {
     "name": "stdout",
     "output_type": "stream",
     "text": [
      "hello world!\n"
     ]
    }
   ],
   "source": [
    "print('hello world!')"
   ]
  },
  {
   "cell_type": "code",
   "execution_count": 3,
   "id": "c519a95e-9dc4-4e5b-9004-7543bebf7ee1",
   "metadata": {},
   "outputs": [
    {
     "ename": "SyntaxError",
     "evalue": "invalid syntax (3929479711.py, line 1)",
     "output_type": "error",
     "traceback": [
      "\u001b[1;36m  Cell \u001b[1;32mIn[3], line 1\u001b[1;36m\u001b[0m\n\u001b[1;33m    x = hello world!\u001b[0m\n\u001b[1;37m              ^\u001b[0m\n\u001b[1;31mSyntaxError\u001b[0m\u001b[1;31m:\u001b[0m invalid syntax\n"
     ]
    }
   ],
   "source": [
    "x = hello world!\n",
    "print(x)\n"
   ]
  },
  {
   "cell_type": "code",
   "execution_count": 4,
   "id": "3ddd4280-78e7-46b3-b8cd-73cc6988d6b3",
   "metadata": {},
   "outputs": [
    {
     "ename": "SyntaxError",
     "evalue": "unterminated string literal (detected at line 1) (4016977482.py, line 1)",
     "output_type": "error",
     "traceback": [
      "\u001b[1;36m  Cell \u001b[1;32mIn[4], line 1\u001b[1;36m\u001b[0m\n\u001b[1;33m    x = \"hello world!'\u001b[0m\n\u001b[1;37m        ^\u001b[0m\n\u001b[1;31mSyntaxError\u001b[0m\u001b[1;31m:\u001b[0m unterminated string literal (detected at line 1)\n"
     ]
    }
   ],
   "source": [
    "x = \"hello world!'\n",
    "print(x)\n"
   ]
  },
  {
   "cell_type": "code",
   "execution_count": 5,
   "id": "1ba90399-4d84-4ec1-9773-442a705f2f82",
   "metadata": {},
   "outputs": [
    {
     "name": "stdout",
     "output_type": "stream",
     "text": [
      "hello world\n"
     ]
    }
   ],
   "source": [
    "x = \"hello world\"\n",
    "print(x)\n",
    "\n"
   ]
  },
  {
   "cell_type": "code",
   "execution_count": 6,
   "id": "6b960b50-a255-497f-89fe-d66545c240eb",
   "metadata": {},
   "outputs": [
    {
     "name": "stdout",
     "output_type": "stream",
     "text": [
      "hello world\n"
     ]
    }
   ],
   "source": [
    "x = \"hello world\"\n",
    "print(x)"
   ]
  },
  {
   "cell_type": "markdown",
   "id": "c9d19d43-41f6-4c17-9f61-2bfdccd9cec3",
   "metadata": {},
   "source": [
    "1. Master Yoda\n",
    "1. Luke Skywalker\n",
    "1. General Kenobi"
   ]
  },
  {
   "cell_type": "markdown",
   "id": "4b2a409f-724f-4034-ac9c-c394d029d2dd",
   "metadata": {},
   "source": [
    "1. American States\n",
    "   1. Conneticut\n",
    "   1. Mississippi\n",
    "   1. Idaho"
   ]
  },
  {
   "cell_type": "markdown",
   "id": "6bbfe8c3-89a4-4086-960f-e6c13fea7fdd",
   "metadata": {},
   "source": [
    "<sup>DISPLAY</sup>\n",
    " ```\n",
    "print(Hello world!)\n",
    "```"
   ]
  },
  {
   "cell_type": "markdown",
   "id": "b9c6ded8-fdfd-4262-91b8-68239c394c91",
   "metadata": {},
   "source": [
    "```python\n",
    "print(\"Hello World!\")\n",
    "```"
   ]
  },
  {
   "cell_type": "markdown",
   "id": "49bc9de1-17d6-430e-bd03-1ca6001f1e4f",
   "metadata": {},
   "source": [
    "I hate the discriminant!!! $x=\\sqrt{b^2-4ac}$ I hate it!!!"
   ]
  },
  {
   "cell_type": "markdown",
   "id": "89aed6bb-e9e4-47a6-b28a-3298d10f23c5",
   "metadata": {},
   "source": [
    "$$\n",
    "x=\\dfrac{-b \\pm \\sqrt{b^2-4ac}}{2a}\n",
    "$$"
   ]
  },
  {
   "cell_type": "code",
   "execution_count": null,
   "id": "9cda21d1-5347-41c2-b70a-62940db90e1f",
   "metadata": {},
   "outputs": [],
   "source": []
  }
 ],
 "metadata": {
  "kernelspec": {
   "display_name": "Python 3 (ipykernel)",
   "language": "python",
   "name": "python3"
  },
  "language_info": {
   "codemirror_mode": {
    "name": "ipython",
    "version": 3
   },
   "file_extension": ".py",
   "mimetype": "text/x-python",
   "name": "python",
   "nbconvert_exporter": "python",
   "pygments_lexer": "ipython3",
   "version": "3.12.3"
  }
 },
 "nbformat": 4,
 "nbformat_minor": 5
}
