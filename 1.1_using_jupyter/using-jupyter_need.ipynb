{
 "cells": [
  {
   "cell_type": "code",
   "execution_count": 1,
   "id": "3ed64200-b598-43fc-ae66-e8f074a97184",
   "metadata": {},
   "outputs": [
    {
     "name": "stdout",
     "output_type": "stream",
     "text": [
      "Hello World!\n"
     ]
    }
   ],
   "source": [
    "print('Hello World!')\n"
   ]
  },
  {
   "cell_type": "code",
   "execution_count": 2,
   "id": "12d8b8c0-6d29-440e-b39c-a9459c83d409",
   "metadata": {},
   "outputs": [
    {
     "name": "stdout",
     "output_type": "stream",
     "text": [
      "7\n"
     ]
    }
   ],
   "source": [
    "a = 4\n",
    "b = 3\n",
    "c = a + b\n",
    "print(c)\n"
   ]
  },
  {
   "cell_type": "markdown",
   "id": "2b851775-1592-4331-95ce-86473593158e",
   "metadata": {},
   "source": [
    "The ships hung in the sky in much the same way that bricks don’t.\n"
   ]
  },
  {
   "cell_type": "markdown",
   "id": "5baeb3ee-c3c3-4444-b189-686bc144f697",
   "metadata": {},
   "source": [
    "The *ships hung in the sky* in much the same way that **bricks don't** <sup>1</sup><sub>QUOTE</sub>\n"
   ]
  },
  {
   "cell_type": "code",
   "execution_count": 1,
   "id": "a5be9d65-fead-4fb9-b538-da42985c184a",
   "metadata": {},
   "outputs": [
    {
     "name": "stdout",
     "output_type": "stream",
     "text": [
      "hello batman!\n"
     ]
    }
   ],
   "source": [
    "name = \"batman\"\n",
    "\n",
    "if name == \"batman\":\n",
    "    print(\"hello batman!\")\n",
    "else:\n",
    "    print(\"hello world!\")"
   ]
  }
 ],
 "metadata": {
  "kernelspec": {
   "display_name": "Python 3 (ipykernel)",
   "language": "python",
   "name": "python3"
  },
  "language_info": {
   "codemirror_mode": {
    "name": "ipython",
    "version": 3
   },
   "file_extension": ".py",
   "mimetype": "text/x-python",
   "name": "python",
   "nbconvert_exporter": "python",
   "pygments_lexer": "ipython3",
   "version": "3.12.3"
  }
 },
 "nbformat": 4,
 "nbformat_minor": 5
}
